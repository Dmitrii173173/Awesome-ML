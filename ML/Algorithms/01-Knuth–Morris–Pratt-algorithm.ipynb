{
 "cells": [
  {
   "cell_type": "markdown",
   "metadata": {},
   "source": [
    "## Knuth–Morris–Pratt algorithm"
   ]
  },
  {
   "cell_type": "markdown",
   "metadata": {},
   "source": [
    "part1. Computational complexity\n",
    "\n",
    "O(m)"
   ]
  },
  {
   "cell_type": "code",
   "execution_count": 2,
   "metadata": {},
   "outputs": [
    {
     "name": "stdout",
     "output_type": "stream",
     "text": [
      "[0, 0, 1, 2, 3, 0]\n"
     ]
    }
   ],
   "source": [
    "a = \"лилила\"\n",
    "\n",
    "p = [0] * len(a)\n",
    "j = 0\n",
    "i = 1\n",
    "\n",
    "while i < len(a):\n",
    "    if a[j] == a[i]:\n",
    "        p[i] = j + 1\n",
    "        i += 1\n",
    "        j += 1\n",
    "    else:\n",
    "        if j == 0:\n",
    "            p[i] = 0\n",
    "            i += 1\n",
    "        else:\n",
    "            j = p[j - 1]\n",
    "print(p)"
   ]
  },
  {
   "cell_type": "code",
   "execution_count": 3,
   "metadata": {},
   "outputs": [
    {
     "name": "stdout",
     "output_type": "stream",
     "text": [
      "[0, 0, 0, 0, 0, 0, 0, 0, 0, 1, 2, 3, 4, 5, 6, 7, 8, 9, 10, 11, 12, 13, 14, 15, 16, 17, 18, 0, 0, 0, 0, 0, 0, 0, 0, 1, 2, 3, 4, 5, 6, 7, 8, 9, 0]\n"
     ]
    }
   ],
   "source": [
    "t = \"developerdeveloperdeveloperasgsagsadeveloper \"\n",
    "\n",
    "r = [0] * len(t)\n",
    "j = 0\n",
    "i = 1\n",
    "\n",
    "while i < len(t):\n",
    "    if t[j] == t[i]:\n",
    "        r[i] = j + 1\n",
    "        i += 1\n",
    "        j += 1\n",
    "    else:\n",
    "        if j == 0:\n",
    "            r[i] = 0\n",
    "            i += 1\n",
    "        else:\n",
    "            j = r[j - 1]\n",
    "            i += 1\n",
    "\n",
    "print(r)\n"
   ]
  },
  {
   "cell_type": "markdown",
   "metadata": {},
   "source": [
    "part2. Computational complexity\n",
    "\n",
    "O(n+m)"
   ]
  },
  {
   "cell_type": "code",
   "execution_count": 9,
   "metadata": {},
   "outputs": [
    {
     "name": "stdout",
     "output_type": "stream",
     "text": [
      "[0, 0, 1, 2, 3, 0]\n",
      "find\n"
     ]
    }
   ],
   "source": [
    "t = \"лилила\"\n",
    "\n",
    "p = [0]*len(t)\n",
    "j = 0\n",
    "i = 1\n",
    "\n",
    "while i < len(t):\n",
    "    if t[j] == t[i]:\n",
    "        p[i] = j+1\n",
    "        i += 1\n",
    "        j += 1\n",
    "    else:\n",
    "        if j == 0:\n",
    "            p[i] = 0;\n",
    "            i += 1\n",
    "        else:\n",
    "            j = p[j-1]\n",
    "\n",
    "print(p)\n",
    "\n",
    "a = \"лилилось лилилась\"\n",
    "m = len(t)\n",
    "n = len(a)\n",
    "\n",
    "i = 0\n",
    "j = 0\n",
    "while i < n:\n",
    "    if a[i] == t[j]:\n",
    "        i += 1\n",
    "        j += 1\n",
    "        if j == m:\n",
    "            print(\"find\")\n",
    "            break\n",
    "    else:\n",
    "        if j > 0:\n",
    "            j = p[j-1]\n",
    "        else:\n",
    "            i += 1\n",
    "\n",
    "if i == n and j != m:\n",
    "    print(\"not find\")"
   ]
  }
 ],
 "metadata": {
  "kernelspec": {
   "display_name": "cuda118",
   "language": "python",
   "name": "python3"
  },
  "language_info": {
   "codemirror_mode": {
    "name": "ipython",
    "version": 3
   },
   "file_extension": ".py",
   "mimetype": "text/x-python",
   "name": "python",
   "nbconvert_exporter": "python",
   "pygments_lexer": "ipython3",
   "version": "3.10.13"
  }
 },
 "nbformat": 4,
 "nbformat_minor": 2
}
